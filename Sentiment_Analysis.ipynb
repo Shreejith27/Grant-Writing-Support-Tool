{
  "nbformat": 4,
  "nbformat_minor": 0,
  "metadata": {
    "colab": {
      "provenance": []
    },
    "kernelspec": {
      "name": "python3",
      "display_name": "Python 3"
    },
    "language_info": {
      "name": "python"
    }
  },
  "cells": [
    {
      "cell_type": "code",
      "execution_count": 1,
      "metadata": {
        "colab": {
          "base_uri": "https://localhost:8080/"
        },
        "id": "jcshl9ojLunr",
        "outputId": "41d6db97-b5d5-4bc4-d4fe-d2a7131d7f61"
      },
      "outputs": [
        {
          "output_type": "stream",
          "name": "stderr",
          "text": [
            "[nltk_data] Downloading package punkt to /root/nltk_data...\n",
            "[nltk_data]   Unzipping tokenizers/punkt.zip.\n"
          ]
        },
        {
          "output_type": "stream",
          "name": "stdout",
          "text": [
            "Sentiment Score: 0.45208333333333334\n",
            "Tone: Positive\n",
            "Unprofessional Terms Found: ['bargain', 'perfect', 'unlimited', 'easy']\n"
          ]
        }
      ],
      "source": [
        "import spacy\n",
        "from textblob import TextBlob\n",
        "import nltk\n",
        "\n",
        "# Download required NLTK resources\n",
        "nltk.download('punkt')\n",
        "\n",
        "# Load spaCy model\n",
        "nlp = spacy.load(\"en_core_web_sm\")\n",
        "\n",
        "# Function to analyze sentiment and tone of the proposal text\n",
        "def analyze_tone(text):\n",
        "    # Step 1: Sentiment Analysis using TextBlob\n",
        "    blob = TextBlob(text)\n",
        "    sentiment = blob.sentiment.polarity  # Range: -1 (negative) to 1 (positive)\n",
        "\n",
        "    # Step 2: Tone Classification\n",
        "    if sentiment > 0.2:\n",
        "        tone = \"Positive\"\n",
        "    elif sentiment < -0.2:\n",
        "        tone = \"Negative\"\n",
        "    else:\n",
        "        tone = \"Neutral\"\n",
        "\n",
        "    # Step 3: Identifying Unprofessional Language (heuristic approach)\n",
        "    unprofessional_phrases = ['cheap', 'bargain', 'perfect', 'unlimited', 'easy']\n",
        "    unprofessional_terms = [term for term in unprofessional_phrases if term in text.lower()]\n",
        "\n",
        "    # Step 4: Return analysis results\n",
        "    tone_analysis = {\n",
        "        'sentiment_score': sentiment,\n",
        "        'tone': tone,\n",
        "        'unprofessional_terms': unprofessional_terms\n",
        "    }\n",
        "\n",
        "    return tone_analysis\n",
        "\n",
        "# Example usage\n",
        "if __name__ == \"__main__\":\n",
        "    # Sample grant proposal text\n",
        "    proposal_text = \"\"\"\n",
        "    This project will significantly improve the community. We aim to enhance the local environment with unlimited resources\n",
        "    for planting trees. The project is easy to implement and promises a perfect result. It is a bargain for the amount of\n",
        "    money we are requesting.\n",
        "    \"\"\"\n",
        "\n",
        "    # Analyze tone of the grant proposal\n",
        "    analysis = analyze_tone(proposal_text)\n",
        "\n",
        "    # Print analysis results\n",
        "    print(\"Sentiment Score:\", analysis['sentiment_score'])\n",
        "    print(\"Tone:\", analysis['tone'])\n",
        "    print(\"Unprofessional Terms Found:\", analysis['unprofessional_terms'])\n"
      ]
    },
    {
      "cell_type": "code",
      "source": [],
      "metadata": {
        "id": "gqKz9gswL5lx"
      },
      "execution_count": null,
      "outputs": []
    }
  ]
}